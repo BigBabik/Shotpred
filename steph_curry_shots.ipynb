{
 "cells": [
  {
   "cell_type": "code",
   "execution_count": null,
   "id": "b1c3d92d-3c0f-4707-a6cf-44a156e1dd30",
   "metadata": {},
   "outputs": [],
   "source": [
    "from nba_api.stats.endpoints import ShotChartDetail, playercareerstats\n",
    "from nba_api.stats.static import players\n",
    "from time import sleep\n",
    "import pandas as pd\n",
    "import matplotlib.pyplot as plt\n",
    "import os\n",
    "import utils.nba_plot_utils as pu\n",
    "import importlib\n",
    "from tqdm import tqdm\n",
    "%matplotlib inline\n"
   ]
  },
  {
   "cell_type": "code",
   "execution_count": 23,
   "id": "7456abee",
   "metadata": {},
   "outputs": [],
   "source": [
    "# all of Stephen Curry's shots in the 2020-21 season\n",
    "player_id = 201939  # Stephen Curry\n",
    "season = '2020-21'"
   ]
  },
  {
   "cell_type": "code",
   "execution_count": 24,
   "id": "00536302",
   "metadata": {},
   "outputs": [],
   "source": [
    "DATA_FOLDER = 'data/'"
   ]
  },
  {
   "cell_type": "code",
   "execution_count": 25,
   "id": "27ce805a",
   "metadata": {},
   "outputs": [],
   "source": [
    "# pull the shot chart data\n",
    "response = ShotChartDetail(\n",
    "    player_id=player_id,\n",
    "    team_id=0,  # 0 indicates that we want data for all teams\n",
    "    season_nullable=season,\n",
    "    context_measure_simple=\"FGA\"  # FGA indicates that we want data on field goal attempts\n",
    ")"
   ]
  },
  {
   "cell_type": "code",
   "execution_count": 26,
   "id": "325571e6",
   "metadata": {},
   "outputs": [],
   "source": [
    "\n",
    "# convert to a DataFrame\n",
    "shot_data = response.get_data_frames()[0]"
   ]
  },
  {
   "cell_type": "code",
   "execution_count": 27,
   "id": "9aaaac63",
   "metadata": {},
   "outputs": [],
   "source": [
    "# save as a file\n",
    "file_path = os.path.join(DATA_FOLDER, f'steph_curry_full_shots_{season}.csv')"
   ]
  },
  {
   "cell_type": "code",
   "execution_count": 28,
   "id": "8236ca9c",
   "metadata": {},
   "outputs": [],
   "source": [
    "shot_data.to_csv(file_path, index=False)"
   ]
  },
  {
   "cell_type": "code",
   "execution_count": null,
   "id": "2add2418",
   "metadata": {},
   "outputs": [],
   "source": [
    "print(f\"Data successfully downloaded and saved as '{file_path}'\")\n",
    "print(shot_data['SHOT_MADE_FLAG'].unique())"
   ]
  },
  {
   "cell_type": "code",
   "execution_count": 30,
   "id": "733c1ccd",
   "metadata": {},
   "outputs": [],
   "source": [
    "# example - steph curry shot chart and visualization\n",
    "# shot_data = pd.read_csv(file_path)"
   ]
  },
  {
   "cell_type": "code",
   "execution_count": 31,
   "id": "d592fd00",
   "metadata": {},
   "outputs": [],
   "source": [
    "# drop rows where the shot distance is missing\n",
    "shot_data = shot_data.dropna(subset=['LOC_X', 'LOC_Y'])"
   ]
  },
  {
   "cell_type": "code",
   "execution_count": null,
   "id": "9a1aec61",
   "metadata": {},
   "outputs": [],
   "source": [
    "importlib.reload(pu)"
   ]
  },
  {
   "cell_type": "code",
   "execution_count": null,
   "id": "87f26237",
   "metadata": {},
   "outputs": [],
   "source": [
    "shot_data.LOC_X.max()"
   ]
  },
  {
   "cell_type": "code",
   "execution_count": null,
   "id": "7a1f5a22",
   "metadata": {},
   "outputs": [],
   "source": [
    "fin, finax = pu.plot_shot_scatter(shot_data, plot_title=f'Stephen Curry Shot Chart {season}')"
   ]
  },
  {
   "cell_type": "code",
   "execution_count": 153,
   "id": "e3bba321-170e-452a-96a1-9a699cf91ff5",
   "metadata": {},
   "outputs": [
    {
     "name": "stdout",
     "output_type": "stream",
     "text": [
      "נתוני הזריקות של סטף קרי נשמרו בקובץ stephen_curry_shot_data.csv\n"
     ]
    }
   ],
   "source": [
    "from nba_api.stats.endpoints import ShotChartDetail\n",
    "import pandas as pd\n",
    "#נתנוי הזריקות של סטף קרי לאורך כל הקריירה \n",
    "#כמו הקובץ הקודם אשמח שתריץ אצלך אין לי וויפי בבסיס\n",
    "\n",
    "# מזהה השחקן של סטף קרי\n",
    "player_id = 201939\n",
    "\n",
    "# משיכת נתוני הזריקות של סטף קרי לאורך כל הקריירה\n",
    "response = ShotChartDetail(\n",
    "    player_id=player_id,\n",
    "    team_id=0,  # 0 מכוון לכל הקריירה ולא לקבוצה מסוימת\n",
    "    season_nullable='ALL',  # כל העונות\n",
    "    context_measure_simple='FGA'  # נתוני כל הזריקות\n",
    ")\n",
    "\n",
    "# קבלת הנתונים בפורמט JSON\n",
    "data = response.get_json()\n",
    "\n",
    "# יצירת DataFrame מתוך הנתונים\n",
    "shot_data = response.shot_chart_detail.get_data_frame()\n",
    "\n",
    "# שמירת הנתונים לקובץ CSV\n",
    "output_file = 'stephen_curry_shot_data.csv'\n",
    "shot_data.to_csv(output_file, index=False, encoding='utf-8-sig')\n",
    "\n",
    "print(f\"נתוני הזריקות של סטף קרי נשמרו בקובץ {output_file}\")\n"
   ]
  },
  {
   "cell_type": "code",
   "execution_count": null,
   "id": "6254fc93-966f-434e-a614-fcfc134e1d84",
   "metadata": {},
   "outputs": [],
   "source": [
    "from nba_api.stats.endpoints import ShotChartDetail\n",
    "import pandas as pd\n",
    "#נתוני הזריקות של סטף בעונת 23-24\n",
    "# מזהה השחקן של סטף קרי\n",
    "player_id = 201939\n",
    "\n",
    "# ננסה לשלוף נתוני זריקות עבור עונת 2023-2024\n",
    "response = ShotChartDetail(\n",
    "    player_id=player_id,\n",
    "    team_id=0,\n",
    "    season_nullable='2023-24',  # עונה ספציפית\n",
    "    context_measure_simple='FGA'\n",
    ")\n",
    "\n",
    "# יצירת DataFrame מתוך הנתונים\n",
    "shot_data = response.shot_chart_detail.get_data_frame()\n",
    "\n",
    "# בדיקת הנתונים\n",
    "if shot_data.empty:\n",
    "    print(\"לא נמצאו נתונים גם לעונה הספציפית.\")\n",
    "else:\n",
    "    print(\"נתונים נשלפו בהצלחה לעונה 2023-24.\")\n",
    "    print(shot_data.head())\n",
    "\n",
    "    # שמירת הנתונים לקובץ CSV\n",
    "    output_file = 'stephen_curry_shot_data_2023_24.csv'\n",
    "    shot_data.to_csv(output_file, index=False, encoding='utf-8-sig')\n",
    "    print(f\"נתוני הזריקות נשמרו בקובץ {output_file}\")\n"
   ]
  },
  {
   "cell_type": "code",
   "execution_count": null,
   "id": "a57c2a63-566e-40cd-8e1d-5843991cd972",
   "metadata": {},
   "outputs": [],
   "source": [
    "import pandas as pd\n",
    "import matplotlib.pyplot as plt\n",
    "%matplotlib inline\n",
    "\n",
    "#ויזואליזציה של סטף 23-24\n",
    "# קריאת קובץ הנתונים של 2020-21\n",
    "file_path = \"/Users/home/stephen_curry_shot_data_2023_24.csv\"  # שים את הקובץ הנכון פה\n",
    "data = pd.read_csv(file_path)\n",
    "\n",
    "# פילטר לזריקות בלבד (לא ריקות)\n",
    "data = data.dropna(subset=['LOC_X', 'LOC_Y'])\n",
    "\n",
    "# פונקציה לציור מגרש כדורסל\n",
    "def draw_court(ax=None):\n",
    "    if ax is None:\n",
    "        ax = plt.gca()\n",
    "    # גבולות המגרש\n",
    "    hoop = plt.Circle((0, 0), 7.5, linewidth=2, color=\"black\", fill=False)\n",
    "    backboard = plt.Rectangle((-30, -7.5), 60, -1, linewidth=2, color=\"black\")\n",
    "    outer_box = plt.Rectangle((-80, -47.5), 160, 190, linewidth=2, color=\"black\", fill=False)\n",
    "    free_throw = plt.Circle((0, 142.5), 60, linewidth=2, color=\"black\", fill=False)\n",
    "    restricted = plt.Circle((0, 0), 40, linewidth=2, color=\"black\", fill=False)\n",
    "\n",
    "    # הוספת אלמנטים למגרש\n",
    "    ax.add_patch(hoop)\n",
    "    ax.add_patch(backboard)\n",
    "    ax.add_patch(outer_box)\n",
    "    ax.add_patch(free_throw)\n",
    "    ax.add_patch(restricted)\n",
    "\n",
    "    # קווי המגרש\n",
    "    ax.plot([-220, 220], [-47.5, -47.5], linewidth=2, color=\"black\")  # קו תחתון\n",
    "    ax.plot([-220, -220], [-47.5, 422.5], linewidth=2, color=\"black\")  # קו שמאלי\n",
    "    ax.plot([220, 220], [-47.5, 422.5], linewidth=2, color=\"black\")  # קו ימני\n",
    "\n",
    "    # הגדרת צירים\n",
    "    ax.set_xlim(-250, 250)\n",
    "    ax.set_ylim(-50, 470)\n",
    "    ax.set_aspect('equal')\n",
    "    ax.axis('off')\n",
    "\n",
    "# יצירת גרף עם מפת זריקות\n",
    "%matplotlib inline\n",
    "plt.figure(figsize=(12, 11))\n",
    "ax = plt.gca()\n",
    "draw_court(ax)\n",
    "\n",
    "# ציור הזריקות: ירוק להצלחות, אדום להחטאות\n",
    "made_shots = data[data['SHOT_MADE_FLAG'] == 1]\n",
    "missed_shots = data[data['SHOT_MADE_FLAG'] == 0]\n",
    "\n",
    "plt.scatter(made_shots['LOC_X'], made_shots['LOC_Y'], c='green', label=\"Made\", s=10)\n",
    "plt.scatter(missed_shots['LOC_X'], missed_shots['LOC_Y'], c='red', label=\"Missed\", s=10)\n",
    "\n",
    "# כותרת ופרטים\n",
    "plt.title(\"NBA Shot Chart - 2020-21 Season\", fontsize=15)\n",
    "plt.legend(loc='upper right')\n",
    "plt.show()\n"
   ]
  },
  {
   "cell_type": "code",
   "execution_count": null,
   "id": "5da35e61-fe45-4987-815b-24445ae2f0e4",
   "metadata": {},
   "outputs": [],
   "source": [
    "from nba_api.stats.endpoints import ShotChartDetail\n",
    "import pandas as pd\n",
    "import matplotlib.pyplot as plt\n",
    "import seaborn as sns\n",
    "\n",
    "# פונקציה לשליפת נתוני זריקות עבור עונה נתונה\n",
    "def fetch_shot_data(player_id, season):\n",
    "    response = ShotChartDetail(\n",
    "        player_id=player_id,\n",
    "        team_id=0,\n",
    "        season_nullable=season,\n",
    "        context_measure_simple='FGA'\n",
    "    )\n",
    "    return response.shot_chart_detail.get_data_frame()\n",
    "\n",
    "# מזהה השחקן של סטף קרי\n",
    "player_id = 201939\n",
    "\n",
    "# שליפת נתוני זריקות לשתי העונות\n",
    "season_2023_24 = fetch_shot_data(player_id, '2023-24')\n",
    "season_2020_21 = fetch_shot_data(player_id, '2020-21')\n",
    "\n",
    "# הוספת עמודת עונה\n",
    "season_2023_24['Season'] = '2023-24'\n",
    "season_2020_21['Season'] = '2020-21'\n",
    "\n",
    "# איחוד הנתונים לשתי העונות\n",
    "combined_data = pd.concat([season_2023_24, season_2020_21])\n",
    "\n",
    "# יצירת ויזואליזציה\n",
    "plt.figure(figsize=(12, 8))\n",
    "sns.scatterplot(\n",
    "    data=combined_data,\n",
    "    x='LOC_X', y='LOC_Y',\n",
    "    hue='Season',\n",
    "    style='SHOT_MADE_FLAG',  # סמל שונה לפי קליעה או החטאה\n",
    "    palette='coolwarm',\n",
    "    alpha=0.7\n",
    ")\n",
    "plt.title('Steph Curry Shot Chart Comparison: 2023-24 vs 2020-21', fontsize=16)\n",
    "plt.xlabel('Court X Location')\n",
    "plt.ylabel('Court Y Location')\n",
    "plt.legend(title='Season')\n",
    "plt.axhline(0, color='black', linewidth=1)  # קו לציון הקשת\n",
    "plt.grid(alpha=0.3)\n",
    "\n",
    "# שמירת הגרף לקובץ\n",
    "chart_filename = 'steph_curry_shot_chart_comparison.png'\n",
    "plt.savefig(chart_filename, dpi=300, bbox_inches='tight')  # שמירת קובץ עם איכות גבוהה\n",
    "print(f\"הגרף נשמר בהצלחה בקובץ {chart_filename}\")\n",
    "\n",
    "# הצגת הגרף\n",
    "plt.show()\n"
   ]
  },
  {
   "cell_type": "markdown",
   "id": "0e94203e",
   "metadata": {},
   "source": []
  }
 ],
 "metadata": {
  "kernelspec": {
   "display_name": "Python 3 (ipykernel)",
   "language": "python",
   "name": "python3"
  },
  "language_info": {
   "codemirror_mode": {
    "name": "ipython",
    "version": 3
   },
   "file_extension": ".py",
   "mimetype": "text/x-python",
   "name": "python",
   "nbconvert_exporter": "python",
   "pygments_lexer": "ipython3",
   "version": "3.13.0"
  }
 },
 "nbformat": 4,
 "nbformat_minor": 5
}
