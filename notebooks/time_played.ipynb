{
 "cells": [
  {
   "cell_type": "code",
   "execution_count": 2,
   "metadata": {},
   "outputs": [],
   "source": [
    "from nba_api.stats.endpoints import playerindex, playbyplayv3 \n"
   ]
  },
  {
   "cell_type": "code",
   "execution_count": 4,
   "metadata": {},
   "outputs": [],
   "source": [
    "def calculate_minutes_played(play_by_play_df, until_clock):\n",
    "    \"\"\"\n",
    "    Calculates the number of minutes played by each player until the given clock timestamp.\n",
    "    \"\"\"\n",
    "    # Parse until_clock into a timedelta for comparison\n",
    "    #until_time = Timedelta(until_clock, unit='s')\n",
    "\n",
    "    # Sort the data by period and actionNumber to simulate the game progression\n",
    "    play_by_play_df = play_by_play_df.sort_values(by=['period', 'actionNumber']).reset_index(drop=True)\n",
    "\n",
    "    # Track active players on the court for each team\n",
    "    active_players = {}\n",
    "    total_play_time = {}\n",
    "\n",
    "    # Filter out substitution events\n",
    "    sub_events = play_by_play_df[(play_by_play_df.actionType == 'Substitution') & (play_by_play_df.ABS_TIME <= until_clock)].reset_index(drop=True)\n",
    "\n",
    "    for _, row in sub_events.iterrows():\n",
    "        current_time = sub_events['ABS_TIME']\n",
    "        print(current_time)\n",
    "\n",
    "        description = row['description']\n",
    "        if 'SUB' in description:\n",
    "            # Parse substitution description\n",
    "            _, sub_in, _, sub_out = description.split()\n",
    "\n",
    "            # Handle substitution logic for active players\n",
    "            team = row['teamTricode']\n",
    "\n",
    "            if team not in active_players:\n",
    "                active_players[team] = {}\n",
    "\n",
    "            # Record play time for the player being substituted out\n",
    "            if sub_out in active_players[team]:\n",
    "                play_start_time = active_players[team].pop(sub_out)\n",
    "                minutes_played = (current_time - play_start_time).total_seconds() / 60\n",
    "                total_play_time[sub_out] = total_play_time.get(sub_out, 0) + minutes_played\n",
    "\n",
    "            # Add the substituted-in player to active players\n",
    "            active_players[team][sub_in] = current_time\n",
    "\n",
    "    # Add remaining play times for players still on the court\n",
    "    for team, players in active_players.items():\n",
    "        for player, play_start_time in players.items():\n",
    "            minutes_played = (until_time - play_start_time).total_seconds() / 60\n",
    "            total_play_time[player] = total_play_time.get(player, 0) + minutes_played\n",
    "\n",
    "    # Convert to a DataFrame for easier analysis\n",
    "    result = pd.DataFrame(list(total_play_time.items()), columns=['Player', 'MinutesPlayed'])\n",
    "    result = result.sort_values(by='MinutesPlayed', ascending=False).reset_index(drop=True)\n",
    "\n",
    "    return result\n"
   ]
  },
  {
   "cell_type": "code",
   "execution_count": 6,
   "metadata": {},
   "outputs": [
    {
     "ename": "NameError",
     "evalue": "name 'test' is not defined",
     "output_type": "error",
     "traceback": [
      "\u001b[0;31m---------------------------------------------------------------------------\u001b[0m",
      "\u001b[0;31mNameError\u001b[0m                                 Traceback (most recent call last)",
      "Cell \u001b[0;32mIn[6], line 1\u001b[0m\n\u001b[0;32m----> 1\u001b[0m ttp \u001b[38;5;241m=\u001b[39m calculate_minutes_played(test, \u001b[38;5;241m720\u001b[39m)\n",
      "\u001b[0;31mNameError\u001b[0m: name 'test' is not defined"
     ]
    }
   ],
   "source": [
    "ttp = calculate_minutes_played(test, 720)"
   ]
  },
  {
   "cell_type": "code",
   "execution_count": null,
   "metadata": {},
   "outputs": [],
   "source": []
  },
  {
   "cell_type": "code",
   "execution_count": null,
   "metadata": {},
   "outputs": [],
   "source": []
  }
 ],
 "metadata": {
  "kernelspec": {
   "display_name": "Python 3 (ipykernel)",
   "language": "python",
   "name": "python3"
  },
  "language_info": {
   "codemirror_mode": {
    "name": "ipython",
    "version": 3
   },
   "file_extension": ".py",
   "mimetype": "text/x-python",
   "name": "python",
   "nbconvert_exporter": "python",
   "pygments_lexer": "ipython3",
   "version": "3.12.7"
  }
 },
 "nbformat": 4,
 "nbformat_minor": 4
}
