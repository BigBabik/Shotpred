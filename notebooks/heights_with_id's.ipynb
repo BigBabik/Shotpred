{
 "cells": [
  {
   "cell_type": "code",
   "execution_count": 4,
   "id": "169f15ea-8138-4f5e-bb08-1a8c3305f856",
   "metadata": {},
   "outputs": [],
   "source": [
    "import pandas as pd\n",
    "\n",
    "# Step 1: Load the data\n",
    "player_heights = pd.read_csv('/Users/home/Shotpred/data/Internal/nba_2014_2015_player_heights.csv')\n",
    "player_shots = pd.read_csv('/Users/home/Shotpred/data/External/nba_2015_shots.csv')\n",
    "\n",
    "# Step 2: Merge the datasets to add the PLAYER_ID column\n",
    "# Match PLAYER_NAME from both datasets\n",
    "merged_data = player_heights.merge(\n",
    "    player_shots[['PLAYER_NAME', 'PLAYER_ID']],\n",
    "    on='PLAYER_NAME',\n",
    "    how='left'\n",
    ")\n",
    "\n",
    "# Step 3: Remove duplicates so each player appears only once\n",
    "merged_data = merged_data.drop_duplicates(subset=['PLAYER_ID'])\n",
    "\n",
    "# Step 4: Convert PLAYER_ID from float to int\n",
    "# Using Int64 to handle any missing values (NaN)\n",
    "merged_data['PLAYER_ID'] = merged_data['PLAYER_ID'].astype('Int64')\n",
    "\n",
    "merged_data.to_csv('/Users/home/Shotpred/data/Internal/nba_2014_2015_player_heights_with_ids.csv', index=False)\n",
    "\n"
   ]
  }
 ],
 "metadata": {
  "kernelspec": {
   "display_name": "Python 3 (ipykernel)",
   "language": "python",
   "name": "python3"
  },
  "language_info": {
   "codemirror_mode": {
    "name": "ipython",
    "version": 3
   },
   "file_extension": ".py",
   "mimetype": "text/x-python",
   "name": "python",
   "nbconvert_exporter": "python",
   "pygments_lexer": "ipython3",
   "version": "3.12.7"
  }
 },
 "nbformat": 4,
 "nbformat_minor": 5
}
