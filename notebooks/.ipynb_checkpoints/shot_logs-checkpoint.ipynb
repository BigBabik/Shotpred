{
 "cells": [
  {
   "cell_type": "code",
   "execution_count": 3,
   "id": "1792030b-aad6-4fd2-9303-e26103e7aee7",
   "metadata": {},
   "outputs": [
    {
     "name": "stdout",
     "output_type": "stream",
     "text": [
      "    GAME_ID                   MATCHUP LOCATION  W  FINAL_MARGIN  SHOT_NUMBER  \\\n",
      "0  21400899  MAR 04, 2015 - CHA @ BKN        A  W            24            1   \n",
      "1  21400899  MAR 04, 2015 - CHA @ BKN        A  W            24            2   \n",
      "2  21400899  MAR 04, 2015 - CHA @ BKN        A  W            24            3   \n",
      "3  21400899  MAR 04, 2015 - CHA @ BKN        A  W            24            4   \n",
      "4  21400899  MAR 04, 2015 - CHA @ BKN        A  W            24            5   \n",
      "\n",
      "   PERIOD GAME_CLOCK  SHOT_CLOCK  DRIBBLES  ...  SHOT_DIST  PTS_TYPE  \\\n",
      "0       1       1:09        10.8         2  ...        7.7         2   \n",
      "1       1       0:14         3.4         0  ...       28.2         3   \n",
      "2       1       0:00         NaN         3  ...       10.1         2   \n",
      "3       2      11:47        10.3         2  ...       17.2         2   \n",
      "4       2      10:34        10.9         2  ...        3.7         2   \n",
      "\n",
      "   SHOT_RESULT   CLOSEST_DEFENDER CLOSEST_DEFENDER_PLAYER_ID  CLOSE_DEF_DIST  \\\n",
      "0         made     Anderson, Alan                     101187             1.3   \n",
      "1       missed  Bogdanovic, Bojan                     202711             6.1   \n",
      "2       missed  Bogdanovic, Bojan                     202711             0.9   \n",
      "3       missed      Brown, Markel                     203900             3.4   \n",
      "4       missed    Young, Thaddeus                     201152             1.1   \n",
      "\n",
      "   FGM  PTS    player_name player_id  \n",
      "0    1    2  brian roberts    203148  \n",
      "1    0    0  brian roberts    203148  \n",
      "2    0    0  brian roberts    203148  \n",
      "3    0    0  brian roberts    203148  \n",
      "4    0    0  brian roberts    203148  \n",
      "\n",
      "[5 rows x 21 columns]\n",
      "<class 'pandas.core.frame.DataFrame'>\n",
      "RangeIndex: 128069 entries, 0 to 128068\n",
      "Data columns (total 21 columns):\n",
      " #   Column                      Non-Null Count   Dtype  \n",
      "---  ------                      --------------   -----  \n",
      " 0   GAME_ID                     128069 non-null  int64  \n",
      " 1   MATCHUP                     128069 non-null  object \n",
      " 2   LOCATION                    128069 non-null  object \n",
      " 3   W                           128069 non-null  object \n",
      " 4   FINAL_MARGIN                128069 non-null  int64  \n",
      " 5   SHOT_NUMBER                 128069 non-null  int64  \n",
      " 6   PERIOD                      128069 non-null  int64  \n",
      " 7   GAME_CLOCK                  128069 non-null  object \n",
      " 8   SHOT_CLOCK                  122502 non-null  float64\n",
      " 9   DRIBBLES                    128069 non-null  int64  \n",
      " 10  TOUCH_TIME                  128069 non-null  float64\n",
      " 11  SHOT_DIST                   128069 non-null  float64\n",
      " 12  PTS_TYPE                    128069 non-null  int64  \n",
      " 13  SHOT_RESULT                 128069 non-null  object \n",
      " 14  CLOSEST_DEFENDER            128069 non-null  object \n",
      " 15  CLOSEST_DEFENDER_PLAYER_ID  128069 non-null  int64  \n",
      " 16  CLOSE_DEF_DIST              128069 non-null  float64\n",
      " 17  FGM                         128069 non-null  int64  \n",
      " 18  PTS                         128069 non-null  int64  \n",
      " 19  player_name                 128069 non-null  object \n",
      " 20  player_id                   128069 non-null  int64  \n",
      "dtypes: float64(4), int64(10), object(7)\n",
      "memory usage: 20.5+ MB\n",
      "None\n"
     ]
    }
   ],
   "source": [
    "import pandas as pd\n",
    "\n",
    "# קובץ ה-shot_logs (שנה את הנתיב אם הקובץ לא באותה תיקייה)\n",
    "file_path = 'shot_logs.csv'\n",
    "\n",
    "# טעינת הקובץ\n",
    "shot_logs = pd.read_csv(file_path)\n",
    "\n",
    "# הצגת מספר שורות ראשונות\n",
    "print(shot_logs.head())\n",
    "\n",
    "# בדיקת מידע כללי על הנתונים\n",
    "print(shot_logs.info())\n"
   ]
  }
 ],
 "metadata": {
  "kernelspec": {
   "display_name": "Python 3 (ipykernel)",
   "language": "python",
   "name": "python3"
  },
  "language_info": {
   "codemirror_mode": {
    "name": "ipython",
    "version": 3
   },
   "file_extension": ".py",
   "mimetype": "text/x-python",
   "name": "python",
   "nbconvert_exporter": "python",
   "pygments_lexer": "ipython3",
   "version": "3.12.7"
  }
 },
 "nbformat": 4,
 "nbformat_minor": 5
}
