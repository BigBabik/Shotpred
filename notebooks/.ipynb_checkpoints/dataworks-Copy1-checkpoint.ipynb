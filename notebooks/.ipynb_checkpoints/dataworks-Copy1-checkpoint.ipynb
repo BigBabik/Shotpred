{
 "cells": [
  {
   "cell_type": "code",
   "execution_count": 45,
   "metadata": {},
   "outputs": [
    {
     "name": "stdout",
     "output_type": "stream",
     "text": [
      "Current working directory: /Users/home/Shotpred\n",
      "/Users/home/Shotpred\n",
      "/Users/home/Shotpred/notebooks\n",
      "/opt/anaconda3/lib/python312.zip\n",
      "/opt/anaconda3/lib/python3.12\n",
      "/opt/anaconda3/lib/python3.12/lib-dynload\n",
      "\n",
      "/opt/anaconda3/lib/python3.12/site-packages\n",
      "/opt/anaconda3/lib/python3.12/site-packages/aeosa\n",
      "/opt/anaconda3/lib/python3.12/site-packages/setuptools/_vendor\n"
     ]
    },
    {
     "ename": "ModuleNotFoundError",
     "evalue": "No module named 'utils.data_utils'",
     "output_type": "error",
     "traceback": [
      "\u001b[0;31m---------------------------------------------------------------------------\u001b[0m",
      "\u001b[0;31mModuleNotFoundError\u001b[0m                       Traceback (most recent call last)",
      "Cell \u001b[0;32mIn[45], line 15\u001b[0m\n\u001b[1;32m     12\u001b[0m get_ipython()\u001b[38;5;241m.\u001b[39mrun_line_magic(\u001b[38;5;124m'\u001b[39m\u001b[38;5;124mcd\u001b[39m\u001b[38;5;124m'\u001b[39m, \u001b[38;5;124m'\u001b[39m\u001b[38;5;124m/Users/home/Shotpred\u001b[39m\u001b[38;5;124m'\u001b[39m)\n\u001b[1;32m     13\u001b[0m \u001b[38;5;28mprint\u001b[39m(\u001b[38;5;124m\"\u001b[39m\u001b[38;5;130;01m\\n\u001b[39;00m\u001b[38;5;124m\"\u001b[39m\u001b[38;5;241m.\u001b[39mjoin(sys\u001b[38;5;241m.\u001b[39mpath))\n\u001b[0;32m---> 15\u001b[0m \u001b[38;5;28;01mimport\u001b[39;00m \u001b[38;5;21;01mutils\u001b[39;00m\u001b[38;5;21;01m.\u001b[39;00m\u001b[38;5;21;01mdata_utils\u001b[39;00m \u001b[38;5;28;01mas\u001b[39;00m \u001b[38;5;21;01mdu\u001b[39;00m\n\u001b[1;32m     16\u001b[0m \u001b[38;5;28;01mimport\u001b[39;00m \u001b[38;5;21;01mimportlib\u001b[39;00m\n\u001b[1;32m     17\u001b[0m \u001b[38;5;28;01mimport\u001b[39;00m \u001b[38;5;21;01mseaborn\u001b[39;00m \u001b[38;5;28;01mas\u001b[39;00m \u001b[38;5;21;01msns\u001b[39;00m\n",
      "\u001b[0;31mModuleNotFoundError\u001b[0m: No module named 'utils.data_utils'"
     ]
    }
   ],
   "source": [
    "import pandas as pd\n",
    "import os\n",
    "from nba_api.stats.endpoints import playerindex, playbyplayv3\n",
    "import os\n",
    "import sys\n",
    "# שנה את נתיב העבודה\n",
    "os.chdir('/Users/home/Shotpred')\n",
    "\n",
    "# וודא שהנתיב השתנה\n",
    "print(\"Current working directory:\", os.getcwd())\n",
    "\n",
    "%cd /Users/home/Shotpred\n",
    "print(\"\\n\".join(sys.path))\n",
    "\n",
    "import utils.data_utils as du\n",
    "import importlib\n",
    "import seaborn as sns\n",
    "import numpy as np\n",
    "from sklearn.preprocessing import StandardScaler, LabelEncoder\n",
    "from sklearn.impute import SimpleImputer\n",
    "from sklearn.model_selection import train_test_split\n",
    "import matplotlib.pyplot as plt\n"
   ]
  },
  {
   "cell_type": "code",
   "execution_count": null,
   "metadata": {},
   "outputs": [],
   "source": [
    "#HOME_DIR = '/Users/yoav/Documents/Yoav/CS/20936 - DS Project/Shotpred'\n",
    "HOME_DIR = '/Users/home/Shotpred'\n",
    "DATA_DIR = os.path.join(HOME_DIR, 'data')\n",
    "EXT_DATA_DIR = os.path.join(DATA_DIR, 'External')\n",
    "INT_DATA_DIR = os.path.join(DATA_DIR, 'Internal')"
   ]
  },
  {
   "cell_type": "code",
   "execution_count": null,
   "metadata": {},
   "outputs": [],
   "source": [
    "KAGGLE_SHOT_LOGS_201415_FILENAME = 'kaggle_shot_logs_2014_15.csv'\n",
    "KAGGLE_SHOT_LOGS_201415_FULLPATH = os.path.join(EXT_DATA_DIR, KAGGLE_SHOT_LOGS_201415_FILENAME)\n",
    "\n",
    "GENERAL_SHOT_LOGS_FILENAME = 'nba_2015_shots.csv'\n",
    "GENERAL_SHOT_LOGS_FULLPATH = os.path.join(EXT_DATA_DIR, GENERAL_SHOT_LOGS_FILENAME)"
   ]
  },
  {
   "cell_type": "code",
   "execution_count": null,
   "metadata": {},
   "outputs": [],
   "source": [
    "KAGGLE_COLS_FOR_MERGE = ['GAME_ID', 'SHOT_CLOCK', 'DRIBBLES', 'TOUCH_TIME', 'CLOSEST_DEFENDER', 'CLOSEST_DEFENDER_PLAYER_ID', 'CLOSE_DEF_DIST', 'player_id', 'absolute_game_time']\n",
    "CAREER_STATS_COL_FOR_MERGE = ['PLAYER_ID', 'FGM', 'FGA', 'FG_PCT', 'FG3M', 'FG3A', 'FG3_PCT', 'FTM', 'FTA', 'FT_PCT'] #already filtered for relevant season"
   ]
  },
  {
   "cell_type": "code",
   "execution_count": null,
   "metadata": {},
   "outputs": [],
   "source": [
    "shot_logs_1415 = pd.read_csv(KAGGLE_SHOT_LOGS_201415_FULLPATH)"
   ]
  },
  {
   "cell_type": "code",
   "execution_count": null,
   "metadata": {},
   "outputs": [],
   "source": [
    "active_players_201415_ids = shot_logs_1415['player_id'].unique()"
   ]
  },
  {
   "cell_type": "code",
   "execution_count": null,
   "metadata": {},
   "outputs": [],
   "source": [
    "shot_logs_1415['absolute_game_time'] = shot_logs_1415.apply(lambda row: du.clock_to_absolute_seconds(row['GAME_CLOCK'], row['PERIOD']), axis=1)"
   ]
  },
  {
   "cell_type": "code",
   "execution_count": null,
   "metadata": {},
   "outputs": [],
   "source": [
    "#active_players_career_stats = du.gather_mul_career_stats(active_players_201415_ids) # get the career stats for all active players in 2014-15 season"
   ]
  },
  {
   "cell_type": "code",
   "execution_count": null,
   "metadata": {},
   "outputs": [],
   "source": [
    "#active_players_cs_in_1415 = active_players_career_stats[active_players_career_stats['SEASON_ID'] == '2014-15'].reset_index(drop=True)\n",
    "#active_players_cs_in_1415.to_csv(INT_DATA_DIR + 'active_players_career_stats_2014_15.csv', index=False)"
   ]
  },
  {
   "cell_type": "code",
   "execution_count": null,
   "metadata": {},
   "outputs": [],
   "source": [
    "active_players_cs_in_1415 = pd.read_csv(os.path.join(INT_DATA_DIR, 'active_players_career_stats_2014_15.csv'))"
   ]
  },
  {
   "cell_type": "code",
   "execution_count": null,
   "metadata": {},
   "outputs": [],
   "source": [
    "gen_sl = pd.read_csv(GENERAL_SHOT_LOGS_FULLPATH)"
   ]
  },
  {
   "cell_type": "code",
   "execution_count": null,
   "metadata": {},
   "outputs": [],
   "source": [
    "gen_sl.head()"
   ]
  },
  {
   "cell_type": "code",
   "execution_count": null,
   "metadata": {},
   "outputs": [],
   "source": [
    "gen_sl['absolute_game_time'] = gen_sl.apply(lambda row: du.clock_to_absolute_seconds(f\"{str(row[\"MINS_LEFT\"]).zfill(2)}:{str(row[\"SECS_LEFT\"]).zfill(2)}\", row['QUARTER']), axis=1)"
   ]
  },
  {
   "cell_type": "code",
   "execution_count": null,
   "metadata": {},
   "outputs": [],
   "source": [
    "gen_sl.head()"
   ]
  },
  {
   "cell_type": "code",
   "execution_count": null,
   "metadata": {},
   "outputs": [],
   "source": [
    "kaggle_for_join = shot_logs_1415[KAGGLE_COLS_FOR_MERGE]"
   ]
  },
  {
   "cell_type": "code",
   "execution_count": null,
   "metadata": {},
   "outputs": [],
   "source": [
    "kaggle_for_join.head()"
   ]
  },
  {
   "cell_type": "code",
   "execution_count": null,
   "metadata": {},
   "outputs": [],
   "source": [
    "gen_sl_game_ids = set(gen_sl['GAME_ID'].unique())\n",
    "kaggle_for_join_game_ids = set(kaggle_for_join['GAME_ID'].unique())\n",
    "\n",
    "common_game_ids = gen_sl_game_ids.intersection(kaggle_for_join_game_ids)\n",
    "\n",
    "print(f\"Number of unique GAME_IDs in gen_sl: {len(gen_sl_game_ids)}\")\n",
    "print(f\"Number of unique GAME_IDs in kaggle_for_join: {len(kaggle_for_join_game_ids)}\")\n",
    "print(f\"Number of common GAME_IDs in both: {len(common_game_ids)}\")"
   ]
  },
  {
   "cell_type": "code",
   "execution_count": null,
   "metadata": {},
   "outputs": [],
   "source": [
    "kg = kaggle_for_join.sort_values(by='absolute_game_time').reset_index(drop=True)\n",
    "kg"
   ]
  },
  {
   "cell_type": "code",
   "execution_count": null,
   "metadata": {},
   "outputs": [],
   "source": [
    "kaggle_for_join"
   ]
  },
  {
   "cell_type": "code",
   "execution_count": null,
   "metadata": {},
   "outputs": [],
   "source": [
    "kaggle_for_join = kaggle_for_join.sort_values(by=['absolute_game_time']).reset_index(drop=True)"
   ]
  },
  {
   "cell_type": "code",
   "execution_count": null,
   "metadata": {},
   "outputs": [],
   "source": [
    "gen_sl = gen_sl.sort_values(by=['absolute_game_time']).reset_index(drop=True)\n",
    "gen_sl['gen_sl_time_copy'] = gen_sl['absolute_game_time']\n",
    "gen_sl.head()"
   ]
  },
  {
   "cell_type": "code",
   "execution_count": null,
   "metadata": {},
   "outputs": [],
   "source": [
    "merged = pd.merge_asof(kaggle_for_join, gen_sl, on='absolute_game_time',left_by=['player_id', 'GAME_ID'], right_by=['PLAYER_ID', 'GAME_ID'],  direction='nearest', suffixes=['_kaggle', '_shot_logs'], tolerance=5) #,left_by=['player_id', 'GAME_ID'], right_by=['PLAYER_ID', 'GAME_ID'], \n",
    "\n"
   ]
  },
  {
   "cell_type": "code",
   "execution_count": null,
   "metadata": {},
   "outputs": [],
   "source": [
    "merged.head()"
   ]
  },
  {
   "cell_type": "code",
   "execution_count": null,
   "metadata": {},
   "outputs": [],
   "source": [
    "not_merged = merged[merged.gen_sl_time_copy.isna()]"
   ]
  },
  {
   "cell_type": "code",
   "execution_count": null,
   "metadata": {},
   "outputs": [],
   "source": [
    "not_merged.head()"
   ]
  },
  {
   "cell_type": "code",
   "execution_count": null,
   "metadata": {},
   "outputs": [],
   "source": [
    "not_merged"
   ]
  },
  {
   "cell_type": "code",
   "execution_count": null,
   "metadata": {},
   "outputs": [],
   "source": [
    "#not_merged_in_gsg = pd.merge(not_merged, gsg, on=['GAME_ID', 'absolute_game_time', 'player_id'], how='left', indicator=True)\n",
    "#\n",
    "#not_merged_in_gsg = not_merged_in_gsg[not_merged_in_gsg['_merge'] == 'both']\n",
    "#not_merged_in_gsg"
   ]
  },
  {
   "cell_type": "code",
   "execution_count": null,
   "metadata": {},
   "outputs": [],
   "source": [
    "import matplotlib.pyplot as plt\n",
    "\n",
    "plt.figure(figsize=(10, 6))\n",
    "\n",
    "plt.plot(gsg['ABS_TIME'], label='gsg', marker='o')\n",
    "plt.plot(kg['ABS_TIME'], label='kg', marker='x')\n",
    "\n",
    "plt.xlabel('Shot Index')\n",
    "plt.ylabel('Absolute Time')\n",
    "plt.title('Shot Times in gsg vs Shot Times in kg')\n",
    "plt.legend()\n",
    "plt.grid(True)\n",
    "\n",
    "plt.show()"
   ]
  },
  {
   "cell_type": "code",
   "execution_count": null,
   "metadata": {},
   "outputs": [],
   "source": [
    "heights = pd.read_csv(os.path.join(INT_DATA_DIR, 'nba_2014_2015_player_heights.csv'))"
   ]
  },
  {
   "cell_type": "code",
   "execution_count": null,
   "metadata": {},
   "outputs": [],
   "source": [
    "heights"
   ]
  },
  {
   "cell_type": "code",
   "execution_count": null,
   "metadata": {},
   "outputs": [],
   "source": [
    "merged.columns"
   ]
  },
  {
   "cell_type": "code",
   "execution_count": null,
   "metadata": {},
   "outputs": [],
   "source": [
    "# Merge for attacker heights\n",
    "merged_with_attacker_heights = pd.merge(merged, heights, left_on='PLAYER_NAME', right_on='PLAYER_NAME', suffixes=('', '_attacker'))\n",
    "\n",
    "# Merge for defender heights\n",
    "merged_with_both_heights = pd.merge(merged_with_attacker_heights, heights, left_on='CLOSEST_DEFENDER', right_on='PLAYER_NAME', suffixes=('_attacker', '_defender'))\n",
    "\n",
    "# Drop the extra PLAYER_NAME column from the second merge\n",
    "merged_with_both_heights = merged_with_both_heights.drop(columns=['PLAYER_NAME_defender'])\n",
    "\n",
    "merged_with_both_heights.head()"
   ]
  },
  {
   "cell_type": "code",
   "execution_count": null,
   "metadata": {},
   "outputs": [],
   "source": []
  },
  {
   "cell_type": "code",
   "execution_count": null,
   "metadata": {},
   "outputs": [],
   "source": [
    "heights.head()"
   ]
  },
  {
   "cell_type": "code",
   "execution_count": null,
   "metadata": {},
   "outputs": [],
   "source": [
    "merged_with_attacker_heights.head()"
   ]
  },
  {
   "cell_type": "code",
   "execution_count": null,
   "metadata": {},
   "outputs": [],
   "source": [
    "COLS_FOR_PRED = ['SHOT_CLOCK', 'DRIBBLES', 'TOUCH_TIME', 'CLOSEST_DEFENDER_PLAYER_ID', 'CLOSE_DEF_DIST', 'absolute_game_time', 'SEASON_1', 'SEASON_2', 'TEAM_ID', 'PLAYER_ID', 'POSITION_GROUP', 'POSITION', 'GAME_DATE', 'HOME_TEAM', 'AWAY_TEAM', 'EVENT_TYPE', 'SHOT_MADE', 'ACTION_TYPE', 'SHOT_TYPE', 'BASIC_ZONE', 'ZONE_NAME', 'ZONE_ABB', 'ZONE_RANGE', 'LOC_X', 'LOC_Y', 'SHOT_DISTANCE', 'QUARTER', 'MINS_LEFT', 'SECS_LEFT', 'HEIGHT_attacker', 'HEIGHT_defender'] \n",
    "\n",
    "# interchange SEASON1/SEASON2\n",
    "# maybe the game date is highly correlated with season so leave only game date\n",
    "# probably need to chose only subset of the game time/qtr/mins_left/secs_left features\n",
    "# SHOT_MADE and EVENT_TYPE is g.t"
   ]
  },
  {
   "cell_type": "code",
   "execution_count": null,
   "metadata": {},
   "outputs": [],
   "source": [
    "for_pred = merged_with_both_heights[COLS_FOR_PRED]"
   ]
  },
  {
   "cell_type": "code",
   "execution_count": null,
   "metadata": {},
   "outputs": [],
   "source": [
    "def visualize_distributions(df):\n",
    "    \"\"\"\n",
    "    Create visualizations for data distributions\n",
    "    \"\"\"\n",
    "    numerical_cols = df.select_dtypes(include=['int64', 'float64']).columns\n",
    "    numerical_cols = numerical_cols.drop(['PLAYER_ID', 'CLOSEST_DEFENDER_PLAYER_ID', 'SEASON_1'])\n",
    "    \n",
    "    # Distribution plots for numerical columns\n",
    "    plt.figure(figsize=(15, 5 * (len(numerical_cols) // 3 + 1)))\n",
    "    for i, col in enumerate(numerical_cols, 1):\n",
    "        plt.subplot(len(numerical_cols) // 3 + 1, 3, i)\n",
    "        sns.histplot(df[col], kde=True)\n",
    "        plt.title(f'Distribution of {col}')\n",
    "    plt.tight_layout()\n",
    "    plt.show()\n",
    "    \n",
    "    # Correlation heatmap\n",
    "    plt.figure(figsize=(10, 8))\n",
    "    sns.heatmap(df[numerical_cols].corr(), annot=True, cmap='coolwarm')\n",
    "    plt.title('Correlation Heatmap')\n",
    "    plt.show()"
   ]
  },
  {
   "cell_type": "code",
   "execution_count": null,
   "metadata": {},
   "outputs": [],
   "source": [
    "visualize_distributions(for_pred)"
   ]
  },
  {
   "cell_type": "code",
   "execution_count": null,
   "metadata": {},
   "outputs": [],
   "source": [
    "missing_summary = du.missing_values_summary(for_pred)\n",
    "print(missing_summary)"
   ]
  },
  {
   "cell_type": "code",
   "execution_count": null,
   "metadata": {},
   "outputs": [],
   "source": [
    "# check for duplicate rows in the data for prediction\n",
    "duplicate_rows = for_pred[for_pred.duplicated()]\n",
    "\n",
    "# display the duplicate rows\n",
    "print(duplicate_rows)"
   ]
  },
  {
   "cell_type": "code",
   "execution_count": null,
   "metadata": {},
   "outputs": [],
   "source": [
    "importlib.reload(du)\n",
    "constant_columns = du.find_constant_columns(for_pred)\n",
    "print(\"Columns with constant values:\", constant_columns)"
   ]
  },
  {
   "cell_type": "code",
   "execution_count": null,
   "metadata": {},
   "outputs": [],
   "source": [
    "for_pred"
   ]
  },
  {
   "cell_type": "code",
   "execution_count": null,
   "metadata": {},
   "outputs": [],
   "source": [
    "for_prad = pd.merge(for_pred, active_players_cs_in_1415)"
   ]
  },
  {
   "cell_type": "code",
   "execution_count": null,
   "metadata": {},
   "outputs": [],
   "source": [
    "active_players_cs_in_1415"
   ]
  },
  {
   "cell_type": "code",
   "execution_count": null,
   "metadata": {},
   "outputs": [],
   "source": [
    "for_prad"
   ]
  },
  {
   "cell_type": "code",
   "execution_count": null,
   "metadata": {},
   "outputs": [],
   "source": [
    "CAREER_STATS_COL_FOR_MERGE\n"
   ]
  },
  {
   "cell_type": "code",
   "execution_count": null,
   "metadata": {},
   "outputs": [],
   "source": [
    "cs_for_merge = active_players_cs_in_1415[CAREER_STATS_COL_FOR_MERGE]\n"
   ]
  },
  {
   "cell_type": "code",
   "execution_count": null,
   "metadata": {},
   "outputs": [],
   "source": [
    "for_prad = pd.merge(for_pred, cs_for_merge)"
   ]
  },
  {
   "cell_type": "code",
   "execution_count": null,
   "metadata": {},
   "outputs": [],
   "source": [
    "for_prad"
   ]
  },
  {
   "cell_type": "code",
   "execution_count": null,
   "metadata": {},
   "outputs": [],
   "source": []
  },
  {
   "cell_type": "code",
   "execution_count": null,
   "metadata": {},
   "outputs": [],
   "source": []
  },
  {
   "cell_type": "code",
   "execution_count": null,
   "metadata": {},
   "outputs": [],
   "source": []
  },
  {
   "cell_type": "code",
   "execution_count": null,
   "metadata": {},
   "outputs": [],
   "source": [
    "def preprocess_data(df, target_column=None):\n",
    "    \"\"\"\n",
    "    Perform data preprocessing steps\n",
    "    \"\"\"\n",
    "    # Separate features and target\n",
    "    if target_column:\n",
    "        X = df.drop(target_column, axis=1)\n",
    "        y = df[target_column]\n",
    "    else:\n",
    "        X = df\n",
    "        y = None\n",
    "    \n",
    "    # Handle missing values\n",
    "    numerical_cols = X.select_dtypes(include=['int64', 'float64']).columns\n",
    "    categorical_cols = X.select_dtypes(include=['object']).columns\n",
    "    \n",
    "    # Numerical imputer\n",
    "    num_imputer = SimpleImputer(strategy='mean')\n",
    "    X[numerical_cols] = num_imputer.fit_transform(X[numerical_cols])\n",
    "    \n",
    "    # Categorical imputer\n",
    "    cat_imputer = SimpleImputer(strategy='most_frequent')\n",
    "    X[categorical_cols] = cat_imputer.fit_transform(X[categorical_cols])\n",
    "    \n",
    "    # Encode categorical variables\n",
    "    encoders = {}\n",
    "    for col in categorical_cols:\n",
    "        encoders[col] = LabelEncoder()\n",
    "        X[col] = encoders[col].fit_transform(X[col])\n",
    "    \n",
    "    # Scale numerical features\n",
    "    scaler = StandardScaler()\n",
    "    X[numerical_cols] = scaler.fit_transform(X[numerical_cols])\n",
    "    \n",
    "    return X, y, encoders, scaler"
   ]
  },
  {
   "cell_type": "code",
   "execution_count": null,
   "metadata": {},
   "outputs": [],
   "source": [
    "\n",
    "# Filfer function for GAME_ID\n",
    "def filter_by_game_gen_sl(df, game_id):\n",
    "    return df[df['GAME_ID'] == game_id.unique()]\n",
    "\n",
    "example_game_id = 21400890  \n",
    "game_gen_sl = filter_by_game_gen_sl(gen_sl, example_game_id)\n",
    "print(game_gen_sl.head())\n"
   ]
  },
  {
   "cell_type": "code",
   "execution_count": null,
   "metadata": {},
   "outputs": [],
   "source": []
  },
  {
   "cell_type": "code",
   "execution_count": null,
   "metadata": {},
   "outputs": [],
   "source": [
    "bnk_pbp = playbyplayv3.PlayByPlayV3(game_id='0021400890').get_data_frames()[0]\n",
    "bnk_pbp['ABS_TIME'] = bnk_pbp.apply(lambda row: du.clock_to_absolute_seconds(row['clock'], row['period']), axis=1)"
   ]
  },
  {
   "cell_type": "code",
   "execution_count": null,
   "metadata": {},
   "outputs": [],
   "source": [
    "bnk_pbp_shots = bnk_pbp[bnk_pbp.actionType.str.contains('shot', case=False)].reset_index(drop=True)\n"
   ]
  },
  {
   "cell_type": "code",
   "execution_count": null,
   "metadata": {},
   "outputs": [],
   "source": [
    "bnk_pbp_shots"
   ]
  },
  {
   "cell_type": "code",
   "execution_count": null,
   "metadata": {},
   "outputs": [],
   "source": [
    "gen_sl_abs_times = set(game_gen_sl['absolute_game_time'].unique())\n",
    "pbp_times = set(bnk_pbp_shots['ABS_TIME'].unique())\n",
    "\n",
    "common_game_ids = gen_sl_abs_times.intersection(pbp_times)\n",
    "\n",
    "print(f\"Number of unique in gen_sl: {len(gen_sl_abs_times)}\")\n",
    "print(f\"Number of unique in pbp: {len(pbp_times)}\")\n",
    "print(f\"Number of common in both: {len(common_game_ids)}\")"
   ]
  },
  {
   "cell_type": "code",
   "execution_count": null,
   "metadata": {},
   "outputs": [],
   "source": [
    "ap_1415_index = playerindex.PlayerIndex(season='2014-15').get_data_frames()[0]"
   ]
  },
  {
   "cell_type": "code",
   "execution_count": null,
   "metadata": {},
   "outputs": [],
   "source": [
    "ap_1415_index.columns"
   ]
  },
  {
   "cell_type": "code",
   "execution_count": null,
   "metadata": {},
   "outputs": [],
   "source": [
    "ap_1415_index_for_join = ap_1415_index[['PERSON_ID', 'HEIGHT']]"
   ]
  }
 ],
 "metadata": {
  "kernelspec": {
   "display_name": "Python 3 (ipykernel)",
   "language": "python",
   "name": "python3"
  },
  "language_info": {
   "codemirror_mode": {
    "name": "ipython",
    "version": 3
   },
   "file_extension": ".py",
   "mimetype": "text/x-python",
   "name": "python",
   "nbconvert_exporter": "python",
   "pygments_lexer": "ipython3",
   "version": "3.12.7"
  }
 },
 "nbformat": 4,
 "nbformat_minor": 4
}
